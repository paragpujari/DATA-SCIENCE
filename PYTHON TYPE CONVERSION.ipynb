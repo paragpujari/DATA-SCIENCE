{
 "cells": [
  {
   "cell_type": "markdown",
   "metadata": {},
   "source": [
    "# Type Conversion\n",
    "\n",
    "Converting the data from one data type to another data type is called type conversion\n",
    "\n",
    "# There are two type of type conversion\n",
    "1. Implicit Conversion\n",
    "2. Explicit Conversion"
   ]
  },
  {
   "cell_type": "code",
   "execution_count": 3,
   "metadata": {},
   "outputs": [
    {
     "name": "stdout",
     "output_type": "stream",
     "text": [
      "9.5\n",
      "(11+5j)\n",
      "(13+9j)\n"
     ]
    }
   ],
   "source": [
    "# Implicit Conversion\n",
    "\n",
    "print(4 + 5.5)\n",
    "\n",
    "print( 5 + 6 + 5j)\n",
    "\n",
    "print(4.5 + 8.5 + 9j)"
   ]
  },
  {
   "cell_type": "code",
   "execution_count": 8,
   "metadata": {},
   "outputs": [
    {
     "name": "stdout",
     "output_type": "stream",
     "text": [
      "<class 'int'>\n",
      "30\n"
     ]
    }
   ],
   "source": [
    "# Explicit Conversion\n",
    "a = '10'\n",
    "\n",
    "b = 20\n",
    "\n",
    "# Here we are telling the compiler to convert the data type of a from string to int\n",
    "a1 = int(a)\n",
    "\n",
    "print(type(a1))\n",
    "\n",
    "print(a1 + b)"
   ]
  },
  {
   "cell_type": "code",
   "execution_count": 14,
   "metadata": {},
   "outputs": [
    {
     "name": "stdout",
     "output_type": "stream",
     "text": [
      "4\n",
      "4.0\n",
      "4\n",
      "True\n",
      "(4+0j)\n",
      "['H', 'e', 'l', 'l', 'o']\n"
     ]
    }
   ],
   "source": [
    " # Converting the data into the respective data types\n",
    "    \n",
    "print(int(4))\n",
    "\n",
    "print(float(4))\n",
    "\n",
    "print(str(4))\n",
    "\n",
    "print(bool(1))\n",
    "\n",
    "\n",
    "print(complex(4))\n",
    "\n",
    "print(list('Hello'))"
   ]
  },
  {
   "cell_type": "code",
   "execution_count": 16,
   "metadata": {},
   "outputs": [
    {
     "name": "stdout",
     "output_type": "stream",
     "text": [
      "4\n",
      "4.5\n"
     ]
    }
   ],
   "source": [
    "a = 4.5\n",
    "\n",
    "print(int(a))\n",
    "\n",
    "\n",
    "print(a)"
   ]
  },
  {
   "cell_type": "code",
   "execution_count": null,
   "metadata": {},
   "outputs": [],
   "source": []
  }
 ],
 "metadata": {
  "kernelspec": {
   "display_name": "Python 3",
   "language": "python",
   "name": "python3"
  },
  "language_info": {
   "codemirror_mode": {
    "name": "ipython",
    "version": 3
   },
   "file_extension": ".py",
   "mimetype": "text/x-python",
   "name": "python",
   "nbconvert_exporter": "python",
   "pygments_lexer": "ipython3",
   "version": "3.8.3"
  }
 },
 "nbformat": 4,
 "nbformat_minor": 4
}
