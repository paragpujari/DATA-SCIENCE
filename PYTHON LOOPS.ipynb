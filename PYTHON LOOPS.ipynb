{
 "cells": [
  {
   "cell_type": "markdown",
   "metadata": {},
   "source": [
    "# Loop\n",
    "It is a process a program keeps on executing unless and until it meets with a specific condition"
   ]
  },
  {
   "cell_type": "markdown",
   "metadata": {},
   "source": [
    "# 1. WHILE LOOP"
   ]
  },
  {
   "cell_type": "code",
   "execution_count": 1,
   "metadata": {},
   "outputs": [
    {
     "name": "stdin",
     "output_type": "stream",
     "text": [
      "Enter the number: 121\n"
     ]
    },
    {
     "name": "stdout",
     "output_type": "stream",
     "text": [
      "Number is Palindrome: 121\n"
     ]
    }
   ],
   "source": [
    "# To check if the number is palindrome or not\n",
    "\n",
    "num = int(input(\"Enter the number:\"))\n",
    "rev = 0\n",
    "x = num\n",
    "while(x != 0):\n",
    "    d = x % 10\n",
    "    rev = (rev * 10) + d\n",
    "    x = x // 10\n",
    "if(rev == num):\n",
    "    print(\"Number is Palindrome:\", num)\n",
    "else:\n",
    "    print(\"Number is not Palindrome:\", num)"
   ]
  },
  {
   "cell_type": "code",
   "execution_count": 3,
   "metadata": {},
   "outputs": [
    {
     "name": "stdin",
     "output_type": "stream",
     "text": [
      "Enter the number: 153\n"
     ]
    },
    {
     "name": "stdout",
     "output_type": "stream",
     "text": [
      "Number is armstrong: 153\n"
     ]
    }
   ],
   "source": [
    "# To check if the number is armstrong or not\n",
    "\n",
    "num = int(input(\"Enter the number:\"))\n",
    "sum = 0\n",
    "x = num\n",
    "while(x != 0):\n",
    "    d = x % 10\n",
    "    sum = sum + (d * d * d)\n",
    "    x = x // 10\n",
    "if(sum == num):\n",
    "    print(\"Number is armstrong:\", num)\n",
    "else:\n",
    "    print(\"Number is not Armstrong:\", num)"
   ]
  },
  {
   "cell_type": "code",
   "execution_count": 7,
   "metadata": {},
   "outputs": [
    {
     "name": "stdin",
     "output_type": "stream",
     "text": [
      "Enter the number: 2\n"
     ]
    },
    {
     "name": "stdout",
     "output_type": "stream",
     "text": [
      "Number is Prime: 2\n"
     ]
    }
   ],
   "source": [
    "# To check if the number is prime or not\n",
    "\n",
    "num = int(input(\"Enter the number:\"))\n",
    "i = 2\n",
    "flag = True\n",
    "while(i < num):\n",
    "    if((num % i) == 0):\n",
    "        flag = False\n",
    "    i = i + 1\n",
    "    break\n",
    "if(flag == True):\n",
    "    print(\"Number is Prime:\", num)\n",
    "else:\n",
    "    print(\"Number is not Prime:\", num)"
   ]
  },
  {
   "cell_type": "markdown",
   "metadata": {},
   "source": [
    "# 2. FOR LOOP"
   ]
  },
  {
   "cell_type": "code",
   "execution_count": 8,
   "metadata": {},
   "outputs": [
    {
     "name": "stdin",
     "output_type": "stream",
     "text": [
      "Enter the number: 5\n"
     ]
    },
    {
     "name": "stdout",
     "output_type": "stream",
     "text": [
      "Factorial of the number is: 120\n"
     ]
    }
   ],
   "source": [
    "# To find out the factorial of a number\n",
    "\n",
    "num = int(input(\"Enter the number:\"))\n",
    "fact = 1\n",
    "for i in range(1,num+1):\n",
    "    fact = fact * i\n",
    "print(\"Factorial of the number is:\", fact)"
   ]
  },
  {
   "cell_type": "code",
   "execution_count": 9,
   "metadata": {},
   "outputs": [
    {
     "name": "stdout",
     "output_type": "stream",
     "text": [
      "10 20 30 40 50 "
     ]
    }
   ],
   "source": [
    "# To find out the list of all the elements\n",
    "list = [10,20,30,40,50]\n",
    "for i in list:\n",
    "    print(i, end = ' ')"
   ]
  },
  {
   "cell_type": "code",
   "execution_count": 10,
   "metadata": {},
   "outputs": [
    {
     "name": "stdout",
     "output_type": "stream",
     "text": [
      "1 2 3 4 5 6 7 8 9 10 11 12 13 14 15 16 17 18 19 20 "
     ]
    }
   ],
   "source": [
    "# To print all the numbers from 1 till 20\n",
    "for i in range(1,21):\n",
    "    print(i, end = ' ')"
   ]
  },
  {
   "cell_type": "code",
   "execution_count": 12,
   "metadata": {},
   "outputs": [
    {
     "name": "stdout",
     "output_type": "stream",
     "text": [
      "2 4 6 8 10 12 14 16 18 20 22 24 26 28 30 32 34 36 38 40 42 44 46 48 50 52 54 56 58 60 62 64 66 68 70 72 74 76 78 80 82 84 86 88 90 92 94 96 98 100 102 104 106 108 110 112 114 116 118 120 122 124 126 128 130 132 134 136 138 140 142 144 146 148 150 152 154 156 158 160 162 164 166 168 170 172 174 176 178 180 182 184 186 188 190 192 194 196 198 200 "
     ]
    }
   ],
   "source": [
    "# To print all the even numbers from 1 to 200\n",
    "for i in range(2,202,2):\n",
    "    print(i, end = ' ')"
   ]
  },
  {
   "cell_type": "code",
   "execution_count": 14,
   "metadata": {},
   "outputs": [
    {
     "name": "stdout",
     "output_type": "stream",
     "text": [
      "1 3 5 7 9 11 13 15 17 19 21 23 25 27 29 31 33 35 37 39 41 43 45 47 49 51 53 55 57 59 61 63 65 67 69 71 73 75 77 79 81 83 85 87 89 91 93 95 97 99 101 103 105 107 109 111 113 115 117 119 121 123 125 127 129 131 133 135 137 139 141 143 145 147 149 151 153 155 157 159 161 163 165 167 169 171 173 175 177 179 181 183 185 187 189 191 193 195 197 199 "
     ]
    }
   ],
   "source": [
    "# To print all the odd numbers from 1 to 200\n",
    "for i in range(1,201,2):\n",
    "    print(i, end = ' ')"
   ]
  },
  {
   "cell_type": "code",
   "execution_count": 15,
   "metadata": {},
   "outputs": [
    {
     "name": "stdout",
     "output_type": "stream",
     "text": [
      "Parag Nishant Subham Sristy Sudeshna "
     ]
    }
   ],
   "source": [
    "# Accessing all the elements in the list\n",
    "list = ['Parag','Nishant','Subham','Sristy','Sudeshna']\n",
    "for i in list:\n",
    "    print(i, end = ' ')"
   ]
  },
  {
   "cell_type": "code",
   "execution_count": 17,
   "metadata": {},
   "outputs": [
    {
     "name": "stdout",
     "output_type": "stream",
     "text": [
      "Parag Nishant Subham Sristy Sudeshna "
     ]
    }
   ],
   "source": [
    "# Accessing all the elements in the list\n",
    "for i in range(len(list)):\n",
    "    print(list[i], end = ' ')"
   ]
  },
  {
   "cell_type": "code",
   "execution_count": 18,
   "metadata": {},
   "outputs": [
    {
     "name": "stdout",
     "output_type": "stream",
     "text": [
      "10 20 30 40 50 All the elements in the list are over:\n"
     ]
    }
   ],
   "source": [
    "# To print all the elements in the list else print all the lements are over\n",
    "list = [10,20,30,40,50]\n",
    "for i in list:\n",
    "    print(i, end = ' ')\n",
    "else:\n",
    "    print(\"All the elements in the list are over:\")"
   ]
  },
  {
   "cell_type": "code",
   "execution_count": 25,
   "metadata": {},
   "outputs": [
    {
     "name": "stdin",
     "output_type": "stream",
     "text": [
      "Enter the first number: 11\n",
      "Enter the second number: 20\n"
     ]
    },
    {
     "name": "stdout",
     "output_type": "stream",
     "text": [
      "List of all the Prime numbers are: 11\n",
      "List of all the Prime numbers are: 13\n",
      "List of all the Prime numbers are: 17\n",
      "List of all the Prime numbers are: 19\n"
     ]
    }
   ],
   "source": [
    "# To print all the prime numbers between a given range\n",
    "num1 = int(input(\"Enter the first number:\"))\n",
    "num2 = int(input(\"Enter the second number:\"))\n",
    "for i in range(num1, num2+1):\n",
    "    isDivisible = False\n",
    "    for j in range(2, i):\n",
    "        if((i % j) == 0):\n",
    "            isDivisible = True\n",
    "    if(isDivisible == False):\n",
    "           print(\"List of all the Prime numbers are:\", i)\n",
    "        "
   ]
  },
  {
   "cell_type": "markdown",
   "metadata": {},
   "source": [
    "# BREAK AND CONTINUE STATEMENTS"
   ]
  },
  {
   "cell_type": "code",
   "execution_count": 1,
   "metadata": {},
   "outputs": [
    {
     "name": "stdout",
     "output_type": "stream",
     "text": [
      "Numbers are : 1\n",
      "Numbers are : 2\n",
      "Numbers are : 3\n",
      "Numbers are : 4\n",
      "Numbers are : 5\n"
     ]
    }
   ],
   "source": [
    "# To print the numbers from 1 till 5\n",
    "for i in range(1,10):\n",
    "    if(i == 6):\n",
    "        break\n",
    "    print(\"Numbers are :\", i)"
   ]
  },
  {
   "cell_type": "code",
   "execution_count": 2,
   "metadata": {},
   "outputs": [
    {
     "name": "stdin",
     "output_type": "stream",
     "text": [
      "Enter the number: 100\n"
     ]
    },
    {
     "name": "stdout",
     "output_type": "stream",
     "text": [
      "1\n",
      "2\n",
      "4\n",
      "5\n",
      "7\n",
      "8\n",
      "10\n",
      "11\n",
      "13\n",
      "14\n",
      "16\n",
      "17\n",
      "19\n",
      "20\n",
      "22\n",
      "23\n",
      "25\n",
      "26\n",
      "28\n",
      "29\n",
      "31\n",
      "32\n",
      "34\n",
      "35\n",
      "37\n",
      "38\n",
      "40\n",
      "41\n",
      "43\n",
      "44\n",
      "46\n",
      "47\n",
      "49\n",
      "50\n",
      "52\n",
      "53\n",
      "55\n",
      "56\n",
      "58\n",
      "59\n",
      "61\n",
      "62\n",
      "64\n",
      "65\n",
      "67\n",
      "68\n",
      "70\n",
      "71\n",
      "73\n",
      "74\n",
      "76\n",
      "77\n",
      "79\n",
      "80\n",
      "82\n",
      "83\n",
      "85\n",
      "86\n",
      "88\n",
      "89\n",
      "91\n",
      "92\n",
      "94\n",
      "95\n",
      "97\n",
      "98\n",
      "100\n"
     ]
    }
   ],
   "source": [
    "# To exclude all the numbers that are divisible by 3\n",
    "num = int(input(\"Enter the number:\"))\n",
    "for i in range(1,num+1):\n",
    "    if(i % 3 == 0):\n",
    "        continue\n",
    "    print(i)"
   ]
  },
  {
   "cell_type": "code",
   "execution_count": null,
   "metadata": {},
   "outputs": [],
   "source": []
  }
 ],
 "metadata": {
  "kernelspec": {
   "display_name": "Python 3",
   "language": "python",
   "name": "python3"
  },
  "language_info": {
   "codemirror_mode": {
    "name": "ipython",
    "version": 3
   },
   "file_extension": ".py",
   "mimetype": "text/x-python",
   "name": "python",
   "nbconvert_exporter": "python",
   "pygments_lexer": "ipython3",
   "version": "3.7.6"
  }
 },
 "nbformat": 4,
 "nbformat_minor": 4
}
