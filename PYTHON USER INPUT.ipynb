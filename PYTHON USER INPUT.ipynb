{
 "cells": [
  {
   "cell_type": "markdown",
   "metadata": {},
   "source": [
    "# User Input\n",
    "\n",
    "It is the input provided by the user to which Python interprets the input and gives the depicted output"
   ]
  },
  {
   "cell_type": "code",
   "execution_count": 1,
   "metadata": {},
   "outputs": [
    {
     "name": "stdout",
     "output_type": "stream",
     "text": [
      "Enter the first number:1\n",
      "Enter the second number:2\n",
      "3\n"
     ]
    }
   ],
   "source": [
    "# enter the number and find its sum\n",
    "a = int(input(\"Enter the first number:\"))\n",
    "b = int(input(\"Enter the second number:\"))\n",
    "\n",
    "sum = a + b\n",
    "\n",
    "print(sum)"
   ]
  },
  {
   "cell_type": "markdown",
   "metadata": {},
   "source": [
    "# Output Formatting\n",
    "\n",
    "It refers to the process of depicting the output in the desired format"
   ]
  },
  {
   "cell_type": "code",
   "execution_count": 3,
   "metadata": {},
   "outputs": [
    {
     "name": "stdout",
     "output_type": "stream",
     "text": [
      "The value of a is 10 and b is 20\n"
     ]
    }
   ],
   "source": [
    "a = 10\n",
    "b = 20\n",
    "print(\"The value of a is {} and b is {}\".format(a,b))"
   ]
  },
  {
   "cell_type": "code",
   "execution_count": 4,
   "metadata": {},
   "outputs": [
    {
     "name": "stdout",
     "output_type": "stream",
     "text": [
      "The value of a is 20  and b is 10\n"
     ]
    }
   ],
   "source": [
    "print(\"The value of a is {1}  and b is {0}\".format(a,b))"
   ]
  },
  {
   "cell_type": "code",
   "execution_count": 5,
   "metadata": {},
   "outputs": [
    {
     "name": "stdout",
     "output_type": "stream",
     "text": [
      "The story of Manfred , Bill  and George\n"
     ]
    }
   ],
   "source": [
    "print(\"The story of {1} , {0}  and {other}\".format('Bill', 'Manfred', other = 'George'))"
   ]
  },
  {
   "cell_type": "code",
   "execution_count": null,
   "metadata": {},
   "outputs": [],
   "source": []
  }
 ],
 "metadata": {
  "kernelspec": {
   "display_name": "Python 3",
   "language": "python",
   "name": "python3"
  },
  "language_info": {
   "codemirror_mode": {
    "name": "ipython",
    "version": 3
   },
   "file_extension": ".py",
   "mimetype": "text/x-python",
   "name": "python",
   "nbconvert_exporter": "python",
   "pygments_lexer": "ipython3",
   "version": "3.8.3"
  }
 },
 "nbformat": 4,
 "nbformat_minor": 4
}
