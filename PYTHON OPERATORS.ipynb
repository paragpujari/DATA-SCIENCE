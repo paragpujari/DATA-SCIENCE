{
 "cells": [
  {
   "cell_type": "markdown",
   "metadata": {},
   "source": [
    "# Operators\n",
    "\n",
    "These are the special symbols that performa certain mathematical or logical or relational operations on the operands"
   ]
  },
  {
   "cell_type": "code",
   "execution_count": 2,
   "metadata": {},
   "outputs": [
    {
     "name": "stdout",
     "output_type": "stream",
     "text": [
      "30\n",
      "10\n",
      "200\n",
      "2.0\n",
      "2\n",
      "10240000000000\n",
      "0\n",
      "-8\n"
     ]
    }
   ],
   "source": [
    "# 1. Arithmetic Operators\n",
    "\n",
    "x, y = 10, 20\n",
    "\n",
    "print(y + x)\n",
    "print(y - x)\n",
    "print(y * x)\n",
    "print(y / x)\n",
    "print(y // x)\n",
    "print(y ** x)\n",
    "print(y % x)\n",
    "print(-15 // 2)"
   ]
  },
  {
   "cell_type": "code",
   "execution_count": 3,
   "metadata": {},
   "outputs": [
    {
     "name": "stdout",
     "output_type": "stream",
     "text": [
      "True\n",
      "False\n",
      "True\n",
      "False\n",
      "False\n",
      "True\n"
     ]
    }
   ],
   "source": [
    "# 2. Comparision Operators\n",
    "a , b = 10, 20\n",
    "\n",
    "print(a < b)\n",
    "print(a > b)\n",
    "print(a <= b)\n",
    "print(a >= b)\n",
    "print(a == b)\n",
    "print(a != b)"
   ]
  },
  {
   "cell_type": "code",
   "execution_count": 4,
   "metadata": {},
   "outputs": [
    {
     "name": "stdout",
     "output_type": "stream",
     "text": [
      "True\n",
      "False\n",
      "True\n"
     ]
    }
   ],
   "source": [
    "# 3. Logical Operators\n",
    "\n",
    "a , b = True, False\n",
    "\n",
    "print(a or b)\n",
    "print(a and b)\n",
    "print(a or not (b))"
   ]
  },
  {
   "cell_type": "code",
   "execution_count": 5,
   "metadata": {},
   "outputs": [
    {
     "name": "stdout",
     "output_type": "stream",
     "text": [
      "0\n",
      "14\n",
      "14\n"
     ]
    }
   ],
   "source": [
    "# 4. Bitwise Operators\n",
    "\n",
    "a , b = 10, 4\n",
    "\n",
    "print(a & b)\n",
    "print(a | b)\n",
    "print(a ^ b)"
   ]
  },
  {
   "cell_type": "code",
   "execution_count": 6,
   "metadata": {},
   "outputs": [
    {
     "name": "stdout",
     "output_type": "stream",
     "text": [
      "20\n",
      "10\n",
      "10\n",
      "2.0\n",
      "0\n"
     ]
    }
   ],
   "source": [
    "# 5. Assignment Operators\n",
    "a = 10\n",
    "a += 10\n",
    "print(a)\n",
    "\n",
    "b = 20\n",
    "b -= 10\n",
    "print(b)\n",
    "\n",
    "c = 30\n",
    "c -= 20\n",
    "print(c)\n",
    "\n",
    "d  = 20\n",
    "d /= 10\n",
    "print(d)\n",
    "\n",
    "e  = 30\n",
    "e %= 2\n",
    "print(e)"
   ]
  },
  {
   "cell_type": "code",
   "execution_count": 11,
   "metadata": {},
   "outputs": [
    {
     "name": "stdout",
     "output_type": "stream",
     "text": [
      "True\n",
      "False\n",
      "False\n",
      "True\n"
     ]
    }
   ],
   "source": [
    "# 6. Identity Operators\n",
    "a = True\n",
    "b = True\n",
    "print(a is b)\n",
    "print(a is not (b))\n",
    "\n",
    "l1 = [1,2,3]\n",
    "l2 = [1,2,3]\n",
    "print(l1 is l2)\n",
    "\n",
    "\n",
    "s1 = \"ABCD\"\n",
    "s2 = \"ABCD\"\n",
    "print(s1 is s2)"
   ]
  },
  {
   "cell_type": "code",
   "execution_count": 16,
   "metadata": {},
   "outputs": [
    {
     "name": "stdout",
     "output_type": "stream",
     "text": [
      "True\n",
      "True\n",
      "False\n"
     ]
    }
   ],
   "source": [
    "# 7. Membership Operators\n",
    "list = [1,2,3,4,5]\n",
    "print(10 not in list)\n",
    "\n",
    "\n",
    "d = {1 : 'a', 2 : 'b'}\n",
    "print(1 in d)\n",
    "print('a' in d)"
   ]
  },
  {
   "cell_type": "code",
   "execution_count": null,
   "metadata": {},
   "outputs": [],
   "source": []
  }
 ],
 "metadata": {
  "kernelspec": {
   "display_name": "Python 3",
   "language": "python",
   "name": "python3"
  },
  "language_info": {
   "codemirror_mode": {
    "name": "ipython",
    "version": 3
   },
   "file_extension": ".py",
   "mimetype": "text/x-python",
   "name": "python",
   "nbconvert_exporter": "python",
   "pygments_lexer": "ipython3",
   "version": "3.8.3"
  }
 },
 "nbformat": 4,
 "nbformat_minor": 4
}
