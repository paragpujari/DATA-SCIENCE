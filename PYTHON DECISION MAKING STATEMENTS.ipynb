{
 "cells": [
  {
   "cell_type": "code",
   "execution_count": 1,
   "metadata": {},
   "outputs": [
    {
     "name": "stdout",
     "output_type": "stream",
     "text": [
      "Enter the number:12\n",
      "Number is Positive: 12\n"
     ]
    }
   ],
   "source": [
    "#if statement\n",
    "\n",
    "# To check if the number is positive\n",
    "num = int(input(\"Enter the number:\"))\n",
    "if(num > 0):\n",
    "    print(\"Number is Positive:\", num)"
   ]
  },
  {
   "cell_type": "code",
   "execution_count": 2,
   "metadata": {},
   "outputs": [
    {
     "name": "stdout",
     "output_type": "stream",
     "text": [
      "Enter the number:12\n",
      "Number is Positive: 12\n"
     ]
    }
   ],
   "source": [
    "# if-else statement\n",
    "\n",
    "# To check if the number is positive or negative\n",
    "num = int(input(\"Enter the number:\"))\n",
    "if(num > 0):\n",
    "    print(\"Number is Positive:\", num)\n",
    "else:\n",
    "    print(\"Number is negative:\", num)"
   ]
  },
  {
   "cell_type": "code",
   "execution_count": 6,
   "metadata": {},
   "outputs": [
    {
     "name": "stdout",
     "output_type": "stream",
     "text": [
      "Enter the number:10\n",
      "Number is Positive: 10\n"
     ]
    }
   ],
   "source": [
    "# if-else-if statement\n",
    "\n",
    "# To check if the number is positive or negative or zero\n",
    "\n",
    "num = int(input(\"Enter the number:\"))\n",
    "if(num > 0):\n",
    "    print(\"Number is Positive:\", num)\n",
    "elif(num < 0):\n",
    "    print(\"Number is Negative:\", num)\n",
    "else:\n",
    "    print(\"Number is zero:\", num)"
   ]
  },
  {
   "cell_type": "code",
   "execution_count": 7,
   "metadata": {},
   "outputs": [
    {
     "name": "stdout",
     "output_type": "stream",
     "text": [
      "Enter the first number:12\n",
      "Enter the second number:07\n",
      "Enter the third number:14\n",
      "Largest number is: 14\n"
     ]
    }
   ],
   "source": [
    "# nested - if statements\n",
    "\n",
    "# To find out the largest of the three numbers\n",
    "\n",
    "a = int(input(\"Enter the first number:\"))\n",
    "b = int(input(\"Enter the second number:\"))\n",
    "c = int(input(\"Enter the third number:\"))\n",
    "\n",
    "if(a > b):\n",
    "    if(a > c):\n",
    "        print(\"Largest number is:\", a)\n",
    "    else:\n",
    "        print(\"Largest number is:\", c)\n",
    "else:\n",
    "    if(b > c):\n",
    "        print(\"Largest number is:\", b)\n",
    "    else:\n",
    "        print(\"Largest number is:\", c)"
   ]
  },
  {
   "cell_type": "code",
   "execution_count": null,
   "metadata": {},
   "outputs": [],
   "source": []
  }
 ],
 "metadata": {
  "kernelspec": {
   "display_name": "Python 3",
   "language": "python",
   "name": "python3"
  },
  "language_info": {
   "codemirror_mode": {
    "name": "ipython",
    "version": 3
   },
   "file_extension": ".py",
   "mimetype": "text/x-python",
   "name": "python",
   "nbconvert_exporter": "python",
   "pygments_lexer": "ipython3",
   "version": "3.8.3"
  }
 },
 "nbformat": 4,
 "nbformat_minor": 4
}
