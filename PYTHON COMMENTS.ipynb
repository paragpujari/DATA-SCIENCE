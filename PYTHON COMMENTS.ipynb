{
 "cells": [
  {
   "cell_type": "code",
   "execution_count": 1,
   "metadata": {},
   "outputs": [],
   "source": [
    "#comments = It is a piece of code which is not executable by the compiler.\n",
    "\n",
    "# 1. Single line comment\n",
    "\n",
    "# print(\"Hello World!\")"
   ]
  },
  {
   "cell_type": "code",
   "execution_count": 2,
   "metadata": {},
   "outputs": [
    {
     "name": "stdout",
     "output_type": "stream",
     "text": [
      "My name is Parag Pujari.\n",
      "I am from Odisha.\n",
      "I am working as a Software Engineer at Motherson Services Technology Limited.\n"
     ]
    }
   ],
   "source": [
    "# 2. Multi line comment\n",
    "print('''My name is Parag Pujari.\n",
    "I am from Odisha.\n",
    "I am working as a Software Engineer at Motherson Services Technology Limited.''')"
   ]
  },
  {
   "cell_type": "code",
   "execution_count": null,
   "metadata": {},
   "outputs": [],
   "source": []
  }
 ],
 "metadata": {
  "kernelspec": {
   "display_name": "Python 3",
   "language": "python",
   "name": "python3"
  },
  "language_info": {
   "codemirror_mode": {
    "name": "ipython",
    "version": 3
   },
   "file_extension": ".py",
   "mimetype": "text/x-python",
   "name": "python",
   "nbconvert_exporter": "python",
   "pygments_lexer": "ipython3",
   "version": "3.8.3"
  }
 },
 "nbformat": 4,
 "nbformat_minor": 4
}
